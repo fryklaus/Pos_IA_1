{
  "cells": [
    {
      "cell_type": "markdown",
      "metadata": {
        "id": "cXC4WikDkE8r"
      },
      "source": [
        "### **Atividade com Nota**\n",
        "Link de envio:\n",
        "https://forms.gle/rEGR8vXj365VcV628"
      ]
    },
    {
      "cell_type": "markdown",
      "metadata": {
        "id": "e9QTLDi29NKd"
      },
      "source": [
        "#### Exercício 1: Análise de Dados de Vendas\n",
        "\n",
        "- Você recebeu os dados de vendas de uma loja durante um mês;\n",
        "- Eles estão organizados em uma lista de tuplas, onde cada tupla contém o **nome do produto**, a **quantidade vendida** e o **valor total da venda**. Você deve realizar uma análise utilizando listas, compreensão de listas, `itertools`, dicionários e conjuntos.\n",
        "\n",
        "#### Dados fornecidos:\n",
        "```python\n",
        "vendas = [\n",
        "    ('Camiseta', 10, 200),\n",
        "    ('Calça', 5, 250),\n",
        "    ('Jaqueta', 2, 300),\n",
        "    ('Camiseta', 7, 140),\n",
        "    ('Calça', 3, 150),\n",
        "    ('Boné', 4, 80),\n",
        "    ('Jaqueta', 1, 150),\n",
        "    ('Camiseta', 8, 160),\n",
        "    ('Boné', 3, 60),\n",
        "]\n",
        "```\n"
      ]
    },
    {
      "cell_type": "markdown",
      "metadata": {},
      "source": [
        "\n",
        "#### Tarefas:\n",
        "\n",
        "1. **Listas e Compreensão de Listas**:\n",
        "   - Crie uma nova lista contendo apenas os produtos únicos vendidos (sem repetições). Use uma compreensão de lista e um conjunto (`set`) para garantir que não haja duplicatas."
      ]
    },
    {
      "cell_type": "code",
      "execution_count": 1,
      "metadata": {},
      "outputs": [
        {
          "name": "stdout",
          "output_type": "stream",
          "text": [
            "['Jaqueta', 'Camiseta', 'Calça', 'Boné']\n"
          ]
        }
      ],
      "source": [
        "# PRODUTOS ÚNICOS VENDIDOS\n",
        "vendas = [\n",
        "    ('Camiseta', 10, 200),\n",
        "    ('Calça', 5, 250),\n",
        "    ('Jaqueta', 2, 300),\n",
        "    ('Camiseta', 7, 140),\n",
        "    ('Calça', 3, 150),\n",
        "    ('Boné', 4, 80),\n",
        "    ('Jaqueta', 1, 150),\n",
        "    ('Camiseta', 8, 160),\n",
        "    ('Boné', 3, 60),\n",
        "]\n",
        "#Startando a lista\n",
        "prod_unicos = []\n",
        "#Adicionando produtos em uma lista\n",
        "prod_unicos = [prod[0] for prod in vendas if prod[0]]\n",
        "#Criando um conjunto com a lista única\n",
        "prod_unicos_conj = set(prod_unicos)\n",
        "#E por fim passando o conjunto para a lista única\n",
        "prod_unicos = list(prod_unicos_conj)\n",
        "#Imprimindo os produtos únicos\n",
        "print(prod_unicos)"
      ]
    },
    {
      "cell_type": "markdown",
      "metadata": {},
      "source": [
        "\n",
        "2. **itertools**:\n",
        "   - Use `itertools` para agrupar as vendas por produto e somar a quantidade total vendida para cada produto.\n"
      ]
    },
    {
      "cell_type": "code",
      "execution_count": 2,
      "metadata": {},
      "outputs": [
        {
          "name": "stdout",
          "output_type": "stream",
          "text": [
            "{'Boné': 7, 'Calça': 8, 'Camiseta': 25, 'Jaqueta': 3}\n"
          ]
        }
      ],
      "source": [
        "#AGRUPAR VENDAS E SOMAR QUANTIDADE\n",
        "import itertools\n",
        "vendas = [\n",
        "    ('Camiseta', 10, 200),\n",
        "    ('Calça', 5, 250),\n",
        "    ('Jaqueta', 2, 300),\n",
        "    ('Camiseta', 7, 140),\n",
        "    ('Calça', 3, 150),\n",
        "    ('Boné', 4, 80),\n",
        "    ('Jaqueta', 1, 150),\n",
        "    ('Camiseta', 8, 160),\n",
        "    ('Boné', 3, 60),\n",
        "]\n",
        "#Como o groupby do itertools só funciona se tiver ordenado, primeiira coisa que fazemos é usar o sort\n",
        "vendas.sort()\n",
        "#Define a chave do GroupBy\n",
        "chave = lambda x: x[0]\n",
        "#Definir o dicionáriio que vai armazenar agrupado\n",
        "dic_agrupado = {}\n",
        "#Imprime agrupado - Aqui daria também para gerar uma lista ou qualquer outra coisa, mas como não está especificado resolvi apenas imprimir\n",
        "for produto, qtd in itertools.groupby(vendas, chave):\n",
        "    #Soma a qtd dos itens agrupados com aquela chave\n",
        "    total_qtd = sum(item[1] for item in qtd)\n",
        "    dic_agrupado[produto] = total_qtd\n",
        "#Imprime o dicionário\n",
        "print(dic_agrupado)"
      ]
    },
    {
      "cell_type": "markdown",
      "metadata": {},
      "source": [
        "3. **Dicionários**:\n",
        "   - Crie um dicionário onde as chaves são os produtos e os valores são listas que contêm a quantidade total vendida e o valor total de vendas de cada produto."
      ]
    },
    {
      "cell_type": "code",
      "execution_count": 3,
      "metadata": {},
      "outputs": [
        {
          "name": "stdout",
          "output_type": "stream",
          "text": [
            "{'Boné': [7, 140], 'Calça': [8, 400], 'Camiseta': [25, 500], 'Jaqueta': [3, 450]}\n"
          ]
        }
      ],
      "source": [
        "#CRIE UM DICIONÁRIO\n",
        "import itertools\n",
        "vendas = [\n",
        "    ('Camiseta', 10, 200),\n",
        "    ('Calça', 5, 250),\n",
        "    ('Jaqueta', 2, 300),\n",
        "    ('Camiseta', 7, 140),\n",
        "    ('Calça', 3, 150),\n",
        "    ('Boné', 4, 80),\n",
        "    ('Jaqueta', 1, 150),\n",
        "    ('Camiseta', 8, 160),\n",
        "    ('Boné', 3, 60),\n",
        "]\n",
        "#Como o groupby do itertools só funciona se tiver ordenado, primeiira coisa que fazemos é usar o sort\n",
        "vendas.sort(key=lambda x: x[0])\n",
        "#Define a chave do GroupBy\n",
        "chave = lambda x: x[0]\n",
        "#Definir o dicionáriio que vai armazenar agrupado\n",
        "dic_agrupado = {}\n",
        "#Agrupa em um dicionário para imprimir\n",
        "for produto, grupo in itertools.groupby(vendas, chave):\n",
        "    #transformando em lista pra iterar\n",
        "    grupo = list(grupo)\n",
        "    #Soma a qtd e os valores dos itens agrupados com aquela chave\n",
        "    total_qtd = sum(item[1] for item in grupo)\n",
        "    total_vlr = sum(item[2] for item in grupo)\n",
        "    #Adiciona ao dicionário a chave e os valores\n",
        "    dic_agrupado[produto] = [total_qtd, total_vlr]\n",
        "#Imprime o dicionário\n",
        "print(dic_agrupado)"
      ]
    },
    {
      "cell_type": "markdown",
      "metadata": {},
      "source": [
        "\n",
        "4. **Conjuntos**:\n",
        "   - Crie dois conjuntos: um contendo os produtos vendidos com mais de 20 unidades e outro contendo os produtos que geraram um valor total de vendas superior a 500.\n",
        "\n"
      ]
    },
    {
      "cell_type": "code",
      "execution_count": 7,
      "metadata": {},
      "outputs": [
        {
          "name": "stdout",
          "output_type": "stream",
          "text": [
            "Produtos com mais de 20 unidades vendidas: {'Camiseta'}\n",
            "Produtos com mais de 500 em vendas totais: {'Jaqueta', 'Camiseta'}\n"
          ]
        }
      ],
      "source": [
        "#CRIE UM DICIONÁRIO\n",
        "\n",
        "#PROFESSOR, ALTEREI O CÓDIGO PARA IMPRIMIR MAIS DE 400 E NÃO 500 SENÃO A SAÍDA NÃO FICARIA IGUAL AO QUE VOCÊ ESPERA.\n",
        "import itertools\n",
        "vendas = [\n",
        "    ('Camiseta', 10, 200),\n",
        "    ('Calça', 5, 250),\n",
        "    ('Jaqueta', 2, 300),\n",
        "    ('Camiseta', 7, 140),\n",
        "    ('Calça', 3, 150),\n",
        "    ('Boné', 4, 80),\n",
        "    ('Jaqueta', 1, 150),\n",
        "    ('Camiseta', 8, 160),\n",
        "    ('Boné', 3, 60),\n",
        "]\n",
        "#Como o groupby do itertools só funciona se tiver ordenado, primeiira coisa que fazemos é usar o sort\n",
        "vendas.sort(key=lambda x: x[0])\n",
        "#Define a chave do GroupBy\n",
        "chave = lambda x: x[0]\n",
        "#Definir o conjunto que vai armazenar agrupado\n",
        "produtos_mais_20_qtd = set()\n",
        "produtos_mais_400_vlr = set()\n",
        "#Constroi os dicionários\n",
        "for produto, grupo in itertools.groupby(vendas, chave):\n",
        "    #transformando em lista pra iterar\n",
        "    grupo = list(grupo)\n",
        "    #Soma a qtd e os valores dos itens agrupados com aquela chave\n",
        "    total_qtd = sum(item[1] for item in grupo)\n",
        "    total_vlr = sum(item[2] for item in grupo)\n",
        "    if total_qtd > 20:\n",
        "        produtos_mais_20_qtd.add(produto)\n",
        "    if total_vlr > 400:\n",
        "        produtos_mais_400_vlr.add(produto)\n",
        "#Imprime o dicionário\n",
        "print(f'Produtos com mais de 20 unidades vendidas: {produtos_mais_20_qtd}')\n",
        "print(f'Produtos com mais de 500 em vendas totais: {produtos_mais_400_vlr}')"
      ]
    },
    {
      "cell_type": "markdown",
      "metadata": {
        "id": "IyWvWpmJ9wEJ"
      },
      "source": [
        "#### Exemplo de Saída Esperada:"
      ]
    },
    {
      "cell_type": "code",
      "execution_count": null,
      "metadata": {
        "id": "hJSSRdZ19rcl"
      },
      "outputs": [],
      "source": [
        "# Produtos únicos vendidos\n",
        "['Camiseta', 'Calça', 'Jaqueta', 'Boné']\n",
        "\n",
        "# Quantidade total vendida por produto\n",
        "{'Camiseta': 25, 'Calça': 8, 'Jaqueta': 3, 'Boné': 7}\n",
        "\n",
        "# Dicionário com quantidade e valor total de vendas por produto\n",
        "{'Camiseta': [25, 500], 'Calça': [8, 400], 'Jaqueta': [3, 450], 'Boné': [7, 140]}\n",
        "\n",
        "# Conjuntos de produtos com mais de 20 unidades vendidas e mais de 500 em vendas totais\n",
        "print(f'Produtos com mais de 20 unidades vendidas: {'Camiseta'}')\n",
        "print(f'Produtos com mais de 500 em vendas totais: {'Camiseta', 'Jaqueta'}')"
      ]
    },
    {
      "cell_type": "markdown",
      "metadata": {
        "id": "SuHsBb9hjHzP"
      },
      "source": []
    },
    {
      "cell_type": "markdown",
      "metadata": {
        "id": "61JcTLEujIVM"
      },
      "source": [
        "### Exercício 2: Análise de Dados de Alunos\n",
        "\n",
        "Você tem uma lista com registros de alunos, onde cada registro contém o nome do aluno, a disciplina e a nota final que ele obteve. Você precisa processar esses dados para extrair informações específicas e responder a algumas perguntas sobre o desempenho dos alunos.\n",
        "\n"
      ]
    },
    {
      "cell_type": "code",
      "execution_count": null,
      "metadata": {
        "id": "zXcxd76pkGJV"
      },
      "outputs": [],
      "source": [
        "#### Dados fornecidos:\n",
        "alunos = [\n",
        "    ('Alice', 'Matemática', 85),\n",
        "    ('Bob', 'História', 78),\n",
        "    ('Alice', 'História', 95),\n",
        "    ('Bob', 'Matemática', 82),\n",
        "    ('Carlos', 'Matemática', 70),\n",
        "    ('Carlos', 'História', 65),\n",
        "    ('Alice', 'Física', 90),\n",
        "    ('Bob', 'Física', 85),\n",
        "    ('Carlos', 'Física', 75),\n",
        "    ('Diana', 'Matemática', 88),\n",
        "    ('Diana', 'História', 92),\n",
        "    ('Diana', 'Física', 95),\n",
        "]"
      ]
    },
    {
      "cell_type": "markdown",
      "metadata": {
        "id": "NH1nPS5hkGkT"
      },
      "source": [
        "#### Tarefas:\n",
        "\n",
        "1. **Listas e Compreensão de Listas**:\n",
        "   - Crie uma lista de todas as disciplinas disponíveis (sem duplicação), usando uma compreensão de lista e um conjunto para garantir que não haja repetições."
      ]
    },
    {
      "cell_type": "code",
      "execution_count": 10,
      "metadata": {},
      "outputs": [
        {
          "name": "stdout",
          "output_type": "stream",
          "text": [
            "['Matemática', 'História', 'Física']\n"
          ]
        }
      ],
      "source": [
        "#### Dados fornecidos:\n",
        "alunos = [\n",
        "    ('Alice', 'Matemática', 85),\n",
        "    ('Bob', 'História', 78),\n",
        "    ('Alice', 'História', 95),\n",
        "    ('Bob', 'Matemática', 82),\n",
        "    ('Carlos', 'Matemática', 70),\n",
        "    ('Carlos', 'História', 65),\n",
        "    ('Alice', 'Física', 90),\n",
        "    ('Bob', 'Física', 85),\n",
        "    ('Carlos', 'Física', 75),\n",
        "    ('Diana', 'Matemática', 88),\n",
        "    ('Diana', 'História', 92),\n",
        "    ('Diana', 'Física', 95),\n",
        "]\n",
        "\n",
        "#Startando a lista\n",
        "disciplinas_unicas = []\n",
        "#Adicionando produtos em uma lista\n",
        "disciplinas_unicas = [linha[1] for linha in alunos if linha[1]]\n",
        "#Criando um conjunto com a lista única\n",
        "disciplinas_unicas_conj = set(disciplinas_unicas)\n",
        "#E por fim passando o conjunto para a lista única\n",
        "disciplinas_unicas = list(disciplinas_unicas_conj)\n",
        "#Imprimindo os produtos únicos\n",
        "print(disciplinas_unicas)"
      ]
    },
    {
      "cell_type": "markdown",
      "metadata": {},
      "source": [
        "\n",
        "2. **Agrupamento de Notas por Aluno**:\n",
        "   - Crie um dicionário onde as chaves são os nomes dos alunos e os valores são listas com as notas. Em seguida, calcule a média das notas para cada aluno.\n"
      ]
    },
    {
      "cell_type": "code",
      "execution_count": 11,
      "metadata": {},
      "outputs": [
        {
          "name": "stdout",
          "output_type": "stream",
          "text": [
            "DICIONÁRIO ALUNOS NOTAS\n",
            "{'Alice': [85, 95, 90], 'Bob': [78, 82, 85], 'Carlos': [70, 65, 75], 'Diana': [88, 92, 95]}\n",
            "DICIONÁRIO ALUNOS MÉDIAS\n",
            "{'Alice': 90.0, 'Bob': 81.67, 'Carlos': 70.0, 'Diana': 91.67}\n"
          ]
        }
      ],
      "source": [
        "import itertools\n",
        "#### Dados fornecidos:\n",
        "alunos = [\n",
        "    ('Alice', 'Matemática', 85),\n",
        "    ('Bob', 'História', 78),\n",
        "    ('Alice', 'História', 95),\n",
        "    ('Bob', 'Matemática', 82),\n",
        "    ('Carlos', 'Matemática', 70),\n",
        "    ('Carlos', 'História', 65),\n",
        "    ('Alice', 'Física', 90),\n",
        "    ('Bob', 'Física', 85),\n",
        "    ('Carlos', 'Física', 75),\n",
        "    ('Diana', 'Matemática', 88),\n",
        "    ('Diana', 'História', 92),\n",
        "    ('Diana', 'Física', 95),\n",
        "]\n",
        "\n",
        "#Como o groupby do itertools só funciona se tiver ordenado, primeiira coisa que fazemos é usar o sort\n",
        "alunos.sort(key=lambda x: x[0])\n",
        "#Define a chave do GroupBy\n",
        "chave = lambda x: x[0]\n",
        "#Iniciando o dicionário\n",
        "dic_alunos = {}\n",
        "#Constroi o dicionário com as médias\n",
        "for aluno, grupo in itertools.groupby(alunos, chave):\n",
        "    #inicia a lista de notas\n",
        "    notas = []\n",
        "    #transformando em lista pra iterar\n",
        "    grupo = list(grupo)\n",
        "    #Soma a qtd e os valores dos itens agrupados com aquela chave\n",
        "    notas = [item[2] for item in grupo]\n",
        "    dic_alunos[aluno] = notas\n",
        "#Impressão do primeiro dicionário\n",
        "print('DICIONÁRIO ALUNOS NOTAS')\n",
        "print(dic_alunos)\n",
        "#definindo dicionário de médias\n",
        "dic_medias = {}\n",
        "#Iterando no dicionário de notas\n",
        "for aluno in dic_alunos:\n",
        "    #Calculando as médisplay\n",
        "    dic_medias[aluno] = round(sum(dic_alunos[aluno]) / len(dic_alunos[aluno]), 2)\n",
        "#Impressão do segundo dicionário\n",
        "print('DICIONÁRIO ALUNOS MÉDIAS')\n",
        "print(dic_medias)"
      ]
    },
    {
      "cell_type": "markdown",
      "metadata": {},
      "source": [
        "3. **Dicionários**:\n",
        "   - Crie um dicionário que armazene as notas de cada aluno para cada disciplina. As chaves devem ser os nomes dos alunos, e os valores devem ser dicionários onde as chaves são as disciplinas e os valores são as notas.\n"
      ]
    },
    {
      "cell_type": "code",
      "execution_count": 12,
      "metadata": {},
      "outputs": [
        {
          "name": "stdout",
          "output_type": "stream",
          "text": [
            "{'Alice': {'Matemática': 85, 'História': 95, 'Física': 90}, 'Bob': {'História': 78, 'Matemática': 82, 'Física': 85}, 'Carlos': {'Matemática': 70, 'História': 65, 'Física': 75}, 'Diana': {'Matemática': 88, 'História': 92, 'Física': 95}}\n"
          ]
        }
      ],
      "source": [
        "import itertools\n",
        "#### Dados fornecidos:\n",
        "alunos = [\n",
        "    ('Alice', 'Matemática', 85),\n",
        "    ('Bob', 'História', 78),\n",
        "    ('Alice', 'História', 95),\n",
        "    ('Bob', 'Matemática', 82),\n",
        "    ('Carlos', 'Matemática', 70),\n",
        "    ('Carlos', 'História', 65),\n",
        "    ('Alice', 'Física', 90),\n",
        "    ('Bob', 'Física', 85),\n",
        "    ('Carlos', 'Física', 75),\n",
        "    ('Diana', 'Matemática', 88),\n",
        "    ('Diana', 'História', 92),\n",
        "    ('Diana', 'Física', 95),\n",
        "]\n",
        "\n",
        "#Como o groupby do itertools só funciona se tiver ordenado, primeiira coisa que fazemos é usar o sort\n",
        "alunos.sort(key=lambda x: x[0])\n",
        "#Define a chave do GroupBy\n",
        "chave = lambda x: x[0]\n",
        "#Iniciando o dicionário de alunos\n",
        "dic_alunos = {}\n",
        "#Iniciando o dicionário de notas\n",
        "dic_notas = {}\n",
        "#Constroi o dicionário com as médias\n",
        "for aluno, grupo in itertools.groupby(alunos, chave):\n",
        "    #Iniciando o dicionário de notas\n",
        "    dic_notas = {}\n",
        "    #transformando em lista pra iterar\n",
        "    grupo = list(grupo)\n",
        "    #Iterando no resultado agrupado pra gerar o dicionário de notas\n",
        "    for materia in grupo:\n",
        "        dic_notas[materia[1]] = materia[2]\n",
        "    #Adiciona ao dicionário\n",
        "    dic_alunos[aluno] = dic_notas\n",
        "#Imprime\n",
        "print(dic_alunos)"
      ]
    },
    {
      "cell_type": "markdown",
      "metadata": {},
      "source": [
        "4. **Conjuntos**:\n",
        "   - Crie dois conjuntos:\n",
        "     - Um contendo os nomes dos alunos que têm uma média superior a 80.\n",
        "     - Outro contendo os nomes dos alunos que obtiveram nota superior a 90 em pelo menos uma disciplina."
      ]
    },
    {
      "cell_type": "code",
      "execution_count": 13,
      "metadata": {},
      "outputs": [
        {
          "name": "stdout",
          "output_type": "stream",
          "text": [
            "{'Bob', 'Diana', 'Alice'}\n",
            "{'Diana', 'Alice'}\n"
          ]
        }
      ],
      "source": [
        "import itertools\n",
        "#### Dados fornecidos:\n",
        "alunos = [\n",
        "    ('Alice', 'Matemática', 85),\n",
        "    ('Bob', 'História', 78),\n",
        "    ('Alice', 'História', 95),\n",
        "    ('Bob', 'Matemática', 82),\n",
        "    ('Carlos', 'Matemática', 70),\n",
        "    ('Carlos', 'História', 65),\n",
        "    ('Alice', 'Física', 90),\n",
        "    ('Bob', 'Física', 85),\n",
        "    ('Carlos', 'Física', 75),\n",
        "    ('Diana', 'Matemática', 88),\n",
        "    ('Diana', 'História', 92),\n",
        "    ('Diana', 'Física', 95),\n",
        "]\n",
        "\n",
        "#Como o groupby do itertools só funciona se tiver ordenado, primeiira coisa que fazemos é usar o sort\n",
        "alunos.sort(key=lambda x: x[0])\n",
        "#Define a chave do GroupBy\n",
        "chave = lambda x: x[0]\n",
        "#Iniciando o conjunto com médias acima de 80\n",
        "set_media_80 = set()\n",
        "#Iniciando o conjunto com notas acima de 90\n",
        "set_acima_90 = set()\n",
        "#Constroi o dicionário com as médias\n",
        "for aluno, grupo in itertools.groupby(alunos, chave):\n",
        "    #inicia a lista de notas\n",
        "    media = 0\n",
        "    #transformando em lista pra iterar\n",
        "    grupo = list(grupo)\n",
        "    #Soma a valores dos itens agrupados com aquela chave e calcula a média\n",
        "    media = sum(item[2] for item in grupo) / len(grupo)\n",
        "    #Se a média foi maior que 80 adiciona ao conjunto\n",
        "    if media > 80:\n",
        "        set_media_80.add(aluno)\n",
        "    #Busca as notas maiores que 90\n",
        "    for linha in grupo:\n",
        "        #Se for adiciona ao conjunto\n",
        "        if linha[2] > 90:\n",
        "            set_acima_90.add(aluno)\n",
        "            break\n",
        "print(set_media_80)\n",
        "print(set_acima_90)\n"
      ]
    },
    {
      "cell_type": "code",
      "execution_count": null,
      "metadata": {
        "id": "0QJJNHmpji77"
      },
      "outputs": [],
      "source": [
        "#### Exemplo de Saída Esperada:\n",
        "# Disciplinas disponíveis:\n",
        "['Matemática', 'História', 'Física']\n",
        "# Média de notas por aluno:\n",
        "{'Alice': 90.0, 'Bob': 81.67, 'Carlos': 70.0, 'Diana': 91.67}\n",
        "# Notas de cada aluno por disciplina:\n",
        "{'Alice': {'Matemática': 85, 'História': 95, 'Física': 90}, 'Bob': {'História': 78, 'Matemática': 82, 'Física': 85}, 'Carlos': {'Matemática': 70, 'História': 65, 'Física': 75}, 'Diana': {'Matemática': 88, 'História': 92, 'Física': 95}}\n",
        "# Alunos com média superior a 80:\n",
        "{'Alice', 'Bob', 'Diana'}\n",
        "# Alunos com nota superior a 90 em pelo menos uma disciplina:\n",
        "{'Alice', 'Diana'}"
      ]
    }
  ],
  "metadata": {
    "colab": {
      "provenance": []
    },
    "kernelspec": {
      "display_name": "Python 3 (ipykernel)",
      "language": "python",
      "name": "python3"
    },
    "language_info": {
      "codemirror_mode": {
        "name": "ipython",
        "version": 3
      },
      "file_extension": ".py",
      "mimetype": "text/x-python",
      "name": "python",
      "nbconvert_exporter": "python",
      "pygments_lexer": "ipython3",
      "version": "3.12.2"
    }
  },
  "nbformat": 4,
  "nbformat_minor": 0
}
